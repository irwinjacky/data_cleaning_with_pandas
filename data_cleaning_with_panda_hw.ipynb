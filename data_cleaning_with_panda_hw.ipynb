{
 "cells": [
  {
   "cell_type": "code",
   "execution_count": 40,
   "metadata": {},
   "outputs": [
    {
     "name": "stdout",
     "output_type": "stream",
     "text": [
      "Data cleaning with pandas\n",
      "2113\n",
      "2467\n",
      "10.052380952380952\n",
      "0.5332653581442773\n",
      "            Unnamed: 0    year  month  day     dep_time  dep_delay  \\\n",
      "date                                                                 \n",
      "2013-03-08    143267.0  2013.0    3.0  8.0  1416.659574  83.536921   \n",
      "\n",
      "               arr_time  arr_delay       flight    air_time     distance  \\\n",
      "date                                                                       \n",
      "2013-03-08  1503.931078  85.862155  2013.537283  153.746867  1002.540347   \n",
      "\n",
      "                 hour     minute  \n",
      "date                              \n",
      "2013-03-08  13.867334  29.926158  \n"
     ]
    },
    {
     "name": "stderr",
     "output_type": "stream",
     "text": [
      "/var/folders/1j/ymsl58yn5mn_yd10wjd64tx40000gn/T/ipykernel_6483/1147572316.py:43: FutureWarning: The default value of numeric_only in DataFrameGroupBy.mean is deprecated. In a future version, numeric_only will default to False. Either specify numeric_only or select only columns which should be valid for the function.\n",
      "  delay_by_date = (flights_data.copy().assign(date = lambda row: pd.to_datetime(row [['year', 'month', 'day']])).groupby('date').mean())\n"
     ]
    }
   ],
   "source": [
    "print('Data cleaning with pandas')\n",
    "\n",
    "#library\n",
    "import pandas as pd\n",
    "import matplotlib.pyplot as plt\n",
    "import numpy as np\n",
    "\n",
    "#Import data\n",
    "flights_data = pd.read_csv('flights.csv')\n",
    "flights_data.head(10)\n",
    "weather_data_pd = pd.read_csv('weather.csv')\n",
    "weather_data_np = weather_data_pd.to_numpy()\n",
    "\n",
    "#Pandas Data Filtering/Sorting Question Answering\n",
    "#Question 1 How many flights were there from JFK to SLC? Int\n",
    "num_one = flights_data[(flights_data['origin'] == 'JFK') & (flights_data['dest'] == 'SLC')]\n",
    "print(len(num_one))\n",
    "\n",
    "#Question 2 How many airlines fly to SLC? Should be int\n",
    "num_two = flights_data[flights_data['dest'] == 'SLC']\n",
    "print(len(num_two))\n",
    "\n",
    "#Question 3 What is the average arrival delay for flights to RDU? float\n",
    "num_three = flights_data.where(flights_data['dest'] == 'RDU')['arr_delay'].mean()\n",
    "print(num_three)\n",
    "\n",
    "#Question 4 What proportion of flights to SEA come from the two NYC airports (LGA and JFK)?  float\n",
    "#Find the flights to SEA\n",
    "flights_to_SEA = flights_data[flights_data['dest'] == 'SEA']\n",
    "#Find the number of flights from NYC airports\n",
    "#Flights from LGA\n",
    "flights_from_LGA = flights_to_SEA[flights_to_SEA['origin'] == 'LGA']\n",
    "#Flights from JFK\n",
    "flights_from_JFK = flights_to_SEA[flights_to_SEA['origin'] == 'JFK']\n",
    "#flights from NYC\n",
    "flights_from_NYC = flights_from_LGA + flights_from_JFK\n",
    "num_four = len(flights_from_NYC) / len(flights_to_SEA)\n",
    "print(num_four)\n",
    "\n",
    "#Question 5 Which date has the largest average depature delay? Pd slice with date and float\n",
    "#please make date a column. Preferred format is 2013/1/1 (y/m/d)\n",
    "#delay by date\n",
    "delay_by_date = (flights_data.copy().assign(date = lambda row: pd.to_datetime(row [['year', 'month', 'day']])).groupby('date').mean())\n",
    "#find the date with the largest day\n",
    "num_five = delay_by_date.nlargest(1, 'dep_delay')\n",
    "print(num_five)\n",
    "\n",
    "#Question 6 Which date has the largest average arrival delay? pd slice with date and float"
   ]
  },
  {
   "cell_type": "code",
   "execution_count": null,
   "metadata": {},
   "outputs": [],
   "source": []
  }
 ],
 "metadata": {
  "kernelspec": {
   "display_name": "Python 3.10.6 64-bit",
   "language": "python",
   "name": "python3"
  },
  "language_info": {
   "codemirror_mode": {
    "name": "ipython",
    "version": 3
   },
   "file_extension": ".py",
   "mimetype": "text/x-python",
   "name": "python",
   "nbconvert_exporter": "python",
   "pygments_lexer": "ipython3",
   "version": "3.10.6"
  },
  "orig_nbformat": 4,
  "vscode": {
   "interpreter": {
    "hash": "aee8b7b246df8f9039afb4144a1f6fd8d2ca17a180786b69acc140d282b71a49"
   }
  }
 },
 "nbformat": 4,
 "nbformat_minor": 2
}
